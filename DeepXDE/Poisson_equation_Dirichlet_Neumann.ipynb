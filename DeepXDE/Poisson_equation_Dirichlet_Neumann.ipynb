{
  "nbformat": 4,
  "nbformat_minor": 0,
  "metadata": {
    "colab": {
      "name": "Poisson equation in 1D with Dirichlet/Neumann boundary conditions.ipynb",
      "provenance": [],
      "collapsed_sections": []
    },
    "kernelspec": {
      "name": "python3",
      "display_name": "Python 3"
    },
    "language_info": {
      "name": "python"
    }
  },
  "cells": [
    {
      "cell_type": "markdown",
      "source": [
        "This is a Poisson equation with Dirichlet and Neumann boundary conditions solved with a PINN model using the DeepXDE library.\n",
        "\n",
        "<br>\n",
        "\n",
        "\\begin{equation}\n",
        "Δu = 2 \\hspace{1cm} x∈[−1,1]\n",
        "\\end{equation}\n",
        "\n",
        "<br>\n",
        "\n",
        "\\begin{equation}\n",
        "u'(-1) = 4 \\hspace{1cm} u(-1) = 0\n",
        "\\end{equation}\n",
        "\n",
        "Test losses after 6000 epochs are approximately:\n",
        "\n",
        "*In accordance to y output:* **1.35e-05**\n",
        "\n",
        "*In accordance to boundary conditions:* **1.14e-06**, **1.64e-07**\n",
        "\n",
        "*In accordance to the known solution:* **5.94e-04**"
      ],
      "metadata": {
        "id": "bR2RV8OoN8_y"
      }
    },
    {
      "cell_type": "code",
      "execution_count": null,
      "metadata": {
        "colab": {
          "base_uri": "https://localhost:8080/"
        },
        "id": "u7-aTJOpUoVG",
        "outputId": "9b361d31-cea3-4e7a-cd0d-36a6b46b09f9"
      },
      "outputs": [
        {
          "output_type": "stream",
          "name": "stdout",
          "text": [
            "Requirement already satisfied: deepxde in /usr/local/lib/python3.7/dist-packages (1.1.3)\n",
            "Requirement already satisfied: matplotlib in /usr/local/lib/python3.7/dist-packages (from deepxde) (3.2.2)\n",
            "Requirement already satisfied: scipy in /usr/local/lib/python3.7/dist-packages (from deepxde) (1.4.1)\n",
            "Requirement already satisfied: scikit-learn in /usr/local/lib/python3.7/dist-packages (from deepxde) (1.0.2)\n",
            "Requirement already satisfied: numpy in /usr/local/lib/python3.7/dist-packages (from deepxde) (1.21.6)\n",
            "Requirement already satisfied: scikit-optimize in /usr/local/lib/python3.7/dist-packages (from deepxde) (0.9.0)\n",
            "Requirement already satisfied: python-dateutil>=2.1 in /usr/local/lib/python3.7/dist-packages (from matplotlib->deepxde) (2.8.2)\n",
            "Requirement already satisfied: cycler>=0.10 in /usr/local/lib/python3.7/dist-packages (from matplotlib->deepxde) (0.11.0)\n",
            "Requirement already satisfied: pyparsing!=2.0.4,!=2.1.2,!=2.1.6,>=2.0.1 in /usr/local/lib/python3.7/dist-packages (from matplotlib->deepxde) (3.0.8)\n",
            "Requirement already satisfied: kiwisolver>=1.0.1 in /usr/local/lib/python3.7/dist-packages (from matplotlib->deepxde) (1.4.2)\n",
            "Requirement already satisfied: typing-extensions in /usr/local/lib/python3.7/dist-packages (from kiwisolver>=1.0.1->matplotlib->deepxde) (4.1.1)\n",
            "Requirement already satisfied: six>=1.5 in /usr/local/lib/python3.7/dist-packages (from python-dateutil>=2.1->matplotlib->deepxde) (1.15.0)\n",
            "Requirement already satisfied: threadpoolctl>=2.0.0 in /usr/local/lib/python3.7/dist-packages (from scikit-learn->deepxde) (3.1.0)\n",
            "Requirement already satisfied: joblib>=0.11 in /usr/local/lib/python3.7/dist-packages (from scikit-learn->deepxde) (1.1.0)\n",
            "Requirement already satisfied: pyaml>=16.9 in /usr/local/lib/python3.7/dist-packages (from scikit-optimize->deepxde) (21.10.1)\n",
            "Requirement already satisfied: PyYAML in /usr/local/lib/python3.7/dist-packages (from pyaml>=16.9->scikit-optimize->deepxde) (3.13)\n"
          ]
        },
        {
          "output_type": "stream",
          "name": "stderr",
          "text": [
            "Using backend: tensorflow.compat.v1\n",
            "\n"
          ]
        },
        {
          "output_type": "stream",
          "name": "stdout",
          "text": [
            "WARNING:tensorflow:From /usr/local/lib/python3.7/dist-packages/tensorflow/python/compat/v2_compat.py:107: disable_resource_variables (from tensorflow.python.ops.variable_scope) is deprecated and will be removed in a future version.\n",
            "Instructions for updating:\n",
            "non-resource variables are not supported in the long term\n",
            "WARNING:tensorflow:From /usr/local/lib/python3.7/dist-packages/deepxde/nn/initializers.py:118: The name tf.keras.initializers.he_normal is deprecated. Please use tf.compat.v1.keras.initializers.he_normal instead.\n",
            "\n"
          ]
        }
      ],
      "source": [
        "# Importing libraries\n",
        "  \n",
        "!pip install deepxde\n",
        "import deepxde as dde\n",
        "import numpy as np"
      ]
    },
    {
      "cell_type": "code",
      "source": [
        "# Define computational geometry\n",
        "\n",
        "geom = dde.geometry.Interval(-1, 1)"
      ],
      "metadata": {
        "id": "AlkzHSdJHKW7"
      },
      "execution_count": null,
      "outputs": []
    },
    {
      "cell_type": "code",
      "source": [
        "# Define the differencial equation\n",
        "\n",
        "def ode(x,y):\n",
        "  du_xx = dde.grad.hessian(y,x)\n",
        "  return du_xx - 2"
      ],
      "metadata": {
        "id": "JtfFWThpHPhP"
      },
      "execution_count": null,
      "outputs": []
    },
    {
      "cell_type": "code",
      "source": [
        "# Define boundary conditions\n",
        "\n",
        "def ic_dy (x,_):\n",
        "  return np.isclose(x[0], 1)\n",
        "\n",
        "def ic_y (x,_):\n",
        "  return np.isclose(x[0], -1)\n",
        "\n",
        "ic1 = dde.NeumannBC(geom, lambda x: 4, ic_dy)\n",
        "ic2 = dde.DirichletBC(geom, lambda x: 0, ic_y)"
      ],
      "metadata": {
        "id": "ghoYUSEPVlfZ"
      },
      "execution_count": null,
      "outputs": []
    },
    {
      "cell_type": "code",
      "source": [
        "# Define known solution\n",
        "\n",
        "def sol(x):\n",
        "  return (x+1)**2"
      ],
      "metadata": {
        "id": "pYMN9a76H8Uj"
      },
      "execution_count": null,
      "outputs": []
    },
    {
      "cell_type": "code",
      "source": [
        "# Accumulate all the data for the model\n",
        "\n",
        "data = dde.data.PDE(geom, ode, [ic1,ic2], num_domain=1000, num_boundary=10, solution=sol, num_test=100)"
      ],
      "metadata": {
        "colab": {
          "base_uri": "https://localhost:8080/"
        },
        "id": "no_ed3nqZKpA",
        "outputId": "b587a8dc-1871-41be-f8af-efb1678bdc14"
      },
      "execution_count": null,
      "outputs": [
        {
          "output_type": "stream",
          "name": "stderr",
          "text": [
            "/usr/local/lib/python3.7/dist-packages/skopt/sampler/sobol.py:250: UserWarning: The balance properties of Sobol' points require n to be a power of 2. 0 points have been previously generated, then: n=0+1002=1002. \n",
            "  total_n_samples))\n"
          ]
        }
      ]
    },
    {
      "cell_type": "code",
      "source": [
        "# Create the neural network\n",
        "\n",
        "layer_size = [1] + [60] * 3 + [1]\n",
        "activation = \"tanh\"\n",
        "initializer = \"Glorot uniform\"\n",
        "\n",
        "net = dde.nn.FNN (layer_size, activation, initializer)"
      ],
      "metadata": {
        "id": "duoKlR1UIK01"
      },
      "execution_count": null,
      "outputs": []
    },
    {
      "cell_type": "code",
      "source": [
        "# Build and train the model\n",
        "\n",
        "model = dde.Model(data, net)\n",
        "model.compile(\"adam\", lr=0.01, metrics = [\"l2 relative error\"])\n",
        "\n",
        "losshistory, train_state = model.train(epochs = 6000)"
      ],
      "metadata": {
        "colab": {
          "base_uri": "https://localhost:8080/"
        },
        "id": "Z4UMhrQwZtNC",
        "outputId": "864967e0-dfe9-40bf-f44c-864b85c7c2b3"
      },
      "execution_count": null,
      "outputs": [
        {
          "output_type": "stream",
          "name": "stdout",
          "text": [
            "Compiling model...\n",
            "Building feed-forward neural network...\n",
            "'build' took 0.078859 s\n",
            "\n"
          ]
        },
        {
          "output_type": "stream",
          "name": "stderr",
          "text": [
            "/usr/local/lib/python3.7/dist-packages/deepxde/nn/tensorflow_compat_v1/fnn.py:110: UserWarning: `tf.layers.dense` is deprecated and will be removed in a future version. Please use `tf.keras.layers.Dense` instead.\n",
            "  kernel_constraint=self.kernel_constraint,\n",
            "/usr/local/lib/python3.7/dist-packages/keras/legacy_tf_layers/core.py:261: UserWarning: `layer.apply` is deprecated and will be removed in a future version. Please use `layer.__call__` method instead.\n",
            "  return layer.apply(inputs)\n"
          ]
        },
        {
          "output_type": "stream",
          "name": "stdout",
          "text": [
            "'compile' took 0.607847 s\n",
            "\n",
            "Initializing variables...\n",
            "Training model...\n",
            "\n",
            "Step      Train loss                        Test loss                         Test metric   \n",
            "0         [4.01e+00, 1.31e+01, 1.86e-01]    [4.01e+00, 1.31e+01, 1.86e-01]    [9.12e-01]    \n",
            "1000      [2.29e-02, 7.59e-02, 2.90e-02]    [2.22e-02, 7.59e-02, 2.90e-02]    [6.51e-02]    \n",
            "2000      [3.80e-03, 1.32e-02, 3.90e-03]    [3.85e-03, 1.32e-02, 3.90e-03]    [2.38e-02]    \n",
            "3000      [7.14e-04, 1.35e-03, 1.42e-03]    [6.95e-04, 1.35e-03, 1.42e-03]    [1.53e-02]    \n",
            "4000      [2.22e-04, 5.13e-04, 9.74e-05]    [2.15e-04, 5.13e-04, 9.74e-05]    [4.77e-03]    \n",
            "5000      [5.61e-05, 7.92e-05, 7.31e-06]    [5.51e-05, 7.92e-05, 7.31e-06]    [1.62e-03]    \n",
            "6000      [1.55e-05, 1.14e-06, 1.64e-07]    [1.35e-05, 1.14e-06, 1.64e-07]    [5.94e-04]    \n",
            "\n",
            "Best model at step 6000:\n",
            "  train loss: 1.68e-05\n",
            "  test loss: 1.48e-05\n",
            "  test metric: [5.94e-04]\n",
            "\n",
            "'train' took 59.418522 s\n",
            "\n"
          ]
        }
      ]
    },
    {
      "cell_type": "code",
      "source": [
        "# Generating plots of the results.\n",
        "\n",
        "import matplotlib.pyplot as plt\n",
        "\n",
        "dde.saveplot(losshistory, train_state, issave=True, isplot=True)\n",
        "x = geom.uniform_points(1000, True)\n",
        "y = model.predict(x, operator=ode)\n",
        "\n",
        "plt.figure()\n",
        "plt.plot(x, y)\n",
        "plt.xlabel(\"x\")\n",
        "plt.ylabel(\"PDE residual\")\n",
        "plt.show()"
      ],
      "metadata": {
        "colab": {
          "base_uri": "https://localhost:8080/",
          "height": 855
        },
        "id": "_VbpvrJ3aqJi",
        "outputId": "1c234078-b7a5-48b4-e1b3-a9e9006531ea"
      },
      "execution_count": null,
      "outputs": [
        {
          "output_type": "stream",
          "name": "stdout",
          "text": [
            "Saving loss history to /content/loss.dat ...\n",
            "Saving training data to /content/train.dat ...\n",
            "Saving test data to /content/test.dat ...\n"
          ]
        },
        {
          "output_type": "display_data",
          "data": {
            "text/plain": [
              "<Figure size 432x288 with 1 Axes>"
            ],
            "image/png": "[encoded data removed]"
          },
          "metadata": {
            "needs_background": "light"
          }
        },
        {
          "output_type": "display_data",
          "data": {
            "text/plain": [
              "<Figure size 432x288 with 1 Axes>"
            ],
            "image/png": "[encoded data removed]"
          },
          "metadata": {
            "needs_background": "light"
          }
        },
        {
          "output_type": "display_data",
          "data": {
            "text/plain": [
              "<Figure size 432x288 with 1 Axes>"
            ],
            "image/png": "[encoded data removed]"
          },
          "metadata": {
            "needs_background": "light"
          }
        }
      ]
    }
  ]
}